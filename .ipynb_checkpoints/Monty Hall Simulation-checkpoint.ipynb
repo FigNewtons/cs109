{
 "cells": [
  {
   "cell_type": "markdown",
   "metadata": {},
   "source": [
    "Here is a lightweight simulation of the Monty Hall Problem using numpy. Commonsense might suggest that once you have seen the goat door, the probability that our door has the prize is 1/2, and so there's no reason to switch. However, \n",
    "as you can see, switching doors is the more successful strategy. This is because the probability that our original door had the prize is 1/3, whereas the probability our door did not have the prize is 2/3. Being shown the \"goat\" door yields no additional information:\n",
    "\n",
    "P(our door has the prize | shown the goat door) = P(our door has prize and shown the goat door) / P(shown the goat door)\n",
    "                                                = P(our door has prize)\n",
    "                                                = 1/3\n",
    "                                                \n",
    "This follows from the fact that no matter which door you pick originally, you can always be shown a goat door, and so this probability is 1. In formal terms, the two events are independent. \n",
    "\n",
    "The lesson: Be careful when making judgments on the basis of new information; some are it may be distractors that yield no additional insight to your original belief. \n",
    "\n",
    "Anyway, here's the code:"
   ]
  },
  {
   "cell_type": "code",
   "execution_count": 15,
   "metadata": {
    "collapsed": false
   },
   "outputs": [
    {
     "name": "stdout",
     "output_type": "stream",
     "text": [
      "Number of trials: 10000\n",
      "Original: 33.25%\n",
      "Switch  : 66.75%\n"
     ]
    }
   ],
   "source": [
    "import numpy as np\n",
    "from random import choice\n",
    "\n",
    "def pickdoor(nsim):\n",
    "    \"Return an array of size nsim containing randomly chosen door numbers (0 - 2). \"\n",
    "    return np.random.randint(0, 3, nsim)\n",
    "    \n",
    "\n",
    "def leftover(pick1, pick2):\n",
    "    \"Return an array of doors not already chosen. \"\n",
    "    doors = set([0,1,2])\n",
    "    left = []\n",
    "    for i in range(pick1.size):\n",
    "        remain = list(doors - set([pick1[i], pick2[i]]))\n",
    "        left.append(choice(remain))\n",
    "    return np.array(left)\n",
    "\n",
    "def win_percentage(guess, prize):\n",
    "    \"Return the percent of correct guesses. \"\n",
    "    return 100 * sum(guess == prize) / guess.size\n",
    "\n",
    "nsim = 10000                              \n",
    "prize = pickdoor(nsim)\n",
    "guess = pickdoor(nsim)\n",
    "\n",
    "goat = leftover(prize, guess)\n",
    "switch = leftover(guess, goat)\n",
    "\n",
    "print('Number of trials: {0}'.format(nsim))\n",
    "print('Original: {0:.2f}%'.format(win_percentage(guess, prize)))\n",
    "print('Switch  : {0:.2f}%'.format(win_percentage(switch, prize)))"
   ]
  },
  {
   "cell_type": "code",
   "execution_count": null,
   "metadata": {
    "collapsed": true
   },
   "outputs": [],
   "source": []
  }
 ],
 "metadata": {
  "kernelspec": {
   "display_name": "Python 3",
   "language": "python",
   "name": "python3"
  },
  "language_info": {
   "codemirror_mode": {
    "name": "ipython",
    "version": 3
   },
   "file_extension": ".py",
   "mimetype": "text/x-python",
   "name": "python",
   "nbconvert_exporter": "python",
   "pygments_lexer": "ipython3",
   "version": "3.4.0"
  }
 },
 "nbformat": 4,
 "nbformat_minor": 0
}
